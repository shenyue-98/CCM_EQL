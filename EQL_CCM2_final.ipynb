{
 "cells": [
  {
   "cell_type": "code",
   "execution_count": null,
   "metadata": {},
   "outputs": [],
   "source": [
    "import numpy as np\n",
    "from scipy import integrate\n",
    "import matplotlib.pyplot as plt\n",
    "from mpl_toolkits.mplot3d import Axes3D\n",
    "import seaborn as sns\n",
    "from pysindy import SINDy\n",
    "plot_kws = dict(alpha=0.7, linewidth=0.3)\n",
    "pal = sns.color_palette(\"Set1\")\n",
    "from pysindy.differentiation import FiniteDifference\n",
    "from pysindy.feature_library import PolynomialLibrary\n",
    "from pysindy.optimizers import SR3,SSR,FROLS,TrappingSR3,STLSQ\n",
    "\n",
    "import skccm as ccm\n",
    "from skccm.utilities import train_test_split\n",
    "import csv"
   ]
  },
  {
   "cell_type": "code",
   "execution_count": null,
   "metadata": {},
   "outputs": [],
   "source": [
    "def lorenz(p,t,s,r,b):\n",
    "\n",
    "    x,y,z=p\n",
    "    return [s*(y-x),x*(r-z)-y,x*y-b*z]\n",
    "def rossler(p,t,f1,f2,w12,w21):\n",
    "    x1,y1,z1,x2,y2,z2=p\n",
    " \n",
    "    return [-f1*y1-z1+w12*z2,f1*x1+0.1*y1,0.1+z1*(x1-14),-f2*y2-z2+w21*z1,f2*x2+0.1*y2,0.1+z2*(x2-14)] #返回dx/dt,dy/dt,dz/dt\n",
    "\n",
    "\n",
    "t = np.arange(0,100,0.05)\n",
    "\n",
    "\n",
    "track1 = integrate.odeint(lorenz,[-8,5,10],t,args=(10,28.0,3))\n",
    "\n",
    "track2= integrate.odeint(lorenz,[-7,4,9],t,args=(12,30.0,4))\n",
    "track3 = integrate.odeint(rossler,[-3,-10,5,3,10,-5],t,args=(1.99,1.85,1.2,0.3))\n",
    "X=np.hstack((track1,track2,track3[:,[1,4]]))"
   ]
  },
  {
   "cell_type": "code",
   "execution_count": null,
   "metadata": {},
   "outputs": [],
   "source": [
    "import seaborn as sns\n",
    "import csv\n",
    "print(X.shape)\n",
    "score=np.zeros((8,8))\n",
    "lag=5\n",
    "embed=3\n",
    "for i in range(8):\n",
    "    for j in range(i,8):\n",
    "        if i==j:\n",
    "            continue\n",
    "\n",
    "        e1 = ccm.Embed(X[:,i])\n",
    "        e2 = ccm.Embed(X[:,j])\n",
    "\n",
    "        X1 = e1.embed_vectors_1d(lag,embed)\n",
    "        X2 = e2.embed_vectors_1d(lag,embed)\n",
    "        x1tr, x1te, x2tr, x2te = train_test_split(X1,X2, percent=.75)\n",
    "        CCM_ = ccm.CCM() #initiate the class\n",
    "#library lengths to test\n",
    "        len_tr = len(x1tr)\n",
    "        lib_lens = np.arange(10, len_tr, len_tr/20, dtype='int')\n",
    "#test causation\n",
    "        CCM_.fit(x1tr,x2tr)\n",
    "        x1p, x2p = CCM_.predict(x1te, x2te,lib_lengths=lib_lens)\n",
    "        sc1,sc2 = CCM_.score()\n",
    "        score[i,j]=np.max(np.abs(sc1))\n",
    "        score[j,i]=np.max(np.abs(sc2))\n",
    "print(score)\n",
    "\n",
    "heat=sns.heatmap(data=score,cmap='coolwarm')\n",
    "heat_fig = heat.get_figure()\n"
   ]
  },
  {
   "cell_type": "code",
   "execution_count": null,
   "metadata": {},
   "outputs": [],
   "source": [
    "\n",
    "\n",
    "feature_library = PolynomialLibrary(degree=2)\n",
    "feature_library.fit(X)\n",
    "feature_library.get_feature_names()\n",
    "optimizer = STLSQ(threshold=0.025)\n",
    "model = SINDy(\n",
    "    differentiation_method= FiniteDifference(),\n",
    "    feature_library=feature_library,\n",
    "    optimizer=optimizer,\n",
    "    feature_names=['x1','y1','z1',\"x2\", \"y2\",\"z2\",'ry1','ry2'],\n",
    "\n",
    ")\n",
    "\n",
    "model.fit(X, t=0.05)\n",
    "model.print()\n",
    "score1 = model.score(X,t=0.05)\n",
    "print(score1)"
   ]
  },
  {
   "cell_type": "code",
   "execution_count": null,
   "metadata": {},
   "outputs": [],
   "source": [
    "from scipy import interpolate\n",
    "list_old=np.linspace(0,100,2000)\n",
    "list_new=np.linspace(0,100,10000)\n",
    "print(X.shape)\n",
    "f_linear_1=interpolate.interp1d(list_old,X[:,3])\n",
    "f_linear_2=interpolate.interp1d(list_old,X[:,4])\n",
    "f_linear_3=interpolate.interp1d(list_old,X[:,5])\n",
    "result_x_2=f_linear_1(list_new)\n",
    "result_y_2=f_linear_2(list_new)\n",
    "result_z_2=f_linear_3(list_new)\n",
    "sys_1 = np.stack((result_x_2, result_y_2,result_z_2), axis=1)\n",
    "\n",
    "feature_library = PolynomialLibrary(degree=2)\n",
    "feature_library.fit(X)\n",
    "feature_library.get_feature_names()\n",
    "optimizer = STLSQ(threshold=0.025)\n",
    "model = SINDy(\n",
    "    differentiation_method= FiniteDifference(),\n",
    "    feature_library=feature_library,\n",
    "    optimizer=optimizer,\n",
    "    feature_names=[\"x2\", \"y2\",\"z2\",\"ry1\"],\n",
    "    choose_prune=False\n",
    ")\n",
    "print(sys_1.shape)\n",
    "model.fit(sys_1, t=0.01)\n",
    "model.print()\n",
    "score5 = model.score(sys_1,t=0.01)\n",
    "print(score5)\n"
   ]
  }
 ],
 "metadata": {
  "kernelspec": {
   "display_name": "Python 3.7.13 ('py37')",
   "language": "python",
   "name": "python3"
  },
  "language_info": {
   "codemirror_mode": {
    "name": "ipython",
    "version": 3
   },
   "file_extension": ".py",
   "mimetype": "text/x-python",
   "name": "python",
   "nbconvert_exporter": "python",
   "pygments_lexer": "ipython3",
   "version": "3.7.13"
  },
  "orig_nbformat": 4,
  "vscode": {
   "interpreter": {
    "hash": "5ae1566ac7e05a789d13e8674705b2cbbe157cac4018a24c3fe142c2a94eb8cb"
   }
  }
 },
 "nbformat": 4,
 "nbformat_minor": 2
}
